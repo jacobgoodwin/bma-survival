{
 "cells": [
  {
   "cell_type": "code",
   "execution_count": 1,
   "metadata": {
    "collapsed": true
   },
   "outputs": [],
   "source": [
    "import lifelines\n",
    "import matplotlib.pyplot as plt\n",
    "from lifelines.datasets import load_rossi\n",
    "from lifelines import CoxPHFitter\n",
    "import pandas as pd\n",
    "%matplotlib inline  \n",
    "from functools import reduce\n",
    "from math import log, exp\n",
    "import operator"
   ]
  },
  {
   "cell_type": "code",
   "execution_count": 2,
   "metadata": {
    "collapsed": false
   },
   "outputs": [],
   "source": [
    "rossi = load_rossi()"
   ]
  },
  {
   "cell_type": "code",
   "execution_count": 3,
   "metadata": {
    "collapsed": false
   },
   "outputs": [
    {
     "data": {
      "text/html": [
       "<div>\n",
       "<table border=\"1\" class=\"dataframe\">\n",
       "  <thead>\n",
       "    <tr style=\"text-align: right;\">\n",
       "      <th></th>\n",
       "      <th>week</th>\n",
       "      <th>arrest</th>\n",
       "      <th>fin</th>\n",
       "      <th>age</th>\n",
       "      <th>race</th>\n",
       "      <th>wexp</th>\n",
       "      <th>mar</th>\n",
       "      <th>paro</th>\n",
       "      <th>prio</th>\n",
       "    </tr>\n",
       "  </thead>\n",
       "  <tbody>\n",
       "    <tr>\n",
       "      <th>0</th>\n",
       "      <td>20</td>\n",
       "      <td>1</td>\n",
       "      <td>0</td>\n",
       "      <td>27</td>\n",
       "      <td>1</td>\n",
       "      <td>0</td>\n",
       "      <td>0</td>\n",
       "      <td>1</td>\n",
       "      <td>3</td>\n",
       "    </tr>\n",
       "    <tr>\n",
       "      <th>1</th>\n",
       "      <td>17</td>\n",
       "      <td>1</td>\n",
       "      <td>0</td>\n",
       "      <td>18</td>\n",
       "      <td>1</td>\n",
       "      <td>0</td>\n",
       "      <td>0</td>\n",
       "      <td>1</td>\n",
       "      <td>8</td>\n",
       "    </tr>\n",
       "    <tr>\n",
       "      <th>2</th>\n",
       "      <td>25</td>\n",
       "      <td>1</td>\n",
       "      <td>0</td>\n",
       "      <td>19</td>\n",
       "      <td>0</td>\n",
       "      <td>1</td>\n",
       "      <td>0</td>\n",
       "      <td>1</td>\n",
       "      <td>13</td>\n",
       "    </tr>\n",
       "    <tr>\n",
       "      <th>3</th>\n",
       "      <td>52</td>\n",
       "      <td>0</td>\n",
       "      <td>1</td>\n",
       "      <td>23</td>\n",
       "      <td>1</td>\n",
       "      <td>1</td>\n",
       "      <td>1</td>\n",
       "      <td>1</td>\n",
       "      <td>1</td>\n",
       "    </tr>\n",
       "    <tr>\n",
       "      <th>4</th>\n",
       "      <td>52</td>\n",
       "      <td>0</td>\n",
       "      <td>0</td>\n",
       "      <td>19</td>\n",
       "      <td>0</td>\n",
       "      <td>1</td>\n",
       "      <td>0</td>\n",
       "      <td>1</td>\n",
       "      <td>3</td>\n",
       "    </tr>\n",
       "  </tbody>\n",
       "</table>\n",
       "</div>"
      ],
      "text/plain": [
       "   week  arrest  fin  age  race  wexp  mar  paro  prio\n",
       "0    20       1    0   27     1     0    0     1     3\n",
       "1    17       1    0   18     1     0    0     1     8\n",
       "2    25       1    0   19     0     1    0     1    13\n",
       "3    52       0    1   23     1     1    1     1     1\n",
       "4    52       0    0   19     0     1    0     1     3"
      ]
     },
     "execution_count": 3,
     "metadata": {},
     "output_type": "execute_result"
    }
   ],
   "source": [
    "rossi.head()"
   ]
  },
  {
   "cell_type": "code",
   "execution_count": 4,
   "metadata": {
    "collapsed": false
   },
   "outputs": [
    {
     "ename": "NameError",
     "evalue": "name 'run_cox_ph' is not defined",
     "output_type": "error",
     "traceback": [
      "\u001b[0;31m---------------------------------------------------------------------------\u001b[0m",
      "\u001b[0;31mNameError\u001b[0m                                 Traceback (most recent call last)",
      "\u001b[0;32m<ipython-input-4-d7817ef3c9db>\u001b[0m in \u001b[0;36m<module>\u001b[0;34m()\u001b[0m\n\u001b[1;32m      5\u001b[0m     \u001b[0;32mreturn\u001b[0m \u001b[0mcf\u001b[0m\u001b[0;34m\u001b[0m\u001b[0m\n\u001b[1;32m      6\u001b[0m \u001b[0;34m\u001b[0m\u001b[0m\n\u001b[0;32m----> 7\u001b[0;31m \u001b[0mcf\u001b[0m \u001b[0;34m=\u001b[0m \u001b[0mrun_cox_ph\u001b[0m\u001b[0;34m(\u001b[0m\u001b[0mrossi\u001b[0m\u001b[0;34m,\u001b[0m \u001b[0;34m\"week\"\u001b[0m\u001b[0;34m,\u001b[0m \u001b[0;34m\"arrest\"\u001b[0m\u001b[0;34m,\u001b[0m \u001b[0;34m[\u001b[0m\u001b[0;34m\"paro\"\u001b[0m\u001b[0;34m,\u001b[0m \u001b[0;34m\"prio\"\u001b[0m\u001b[0;34m]\u001b[0m\u001b[0;34m)\u001b[0m\u001b[0;34m\u001b[0m\u001b[0m\n\u001b[0m\u001b[1;32m      8\u001b[0m \u001b[0;34m\u001b[0m\u001b[0m\n",
      "\u001b[0;31mNameError\u001b[0m: name 'run_cox_ph' is not defined"
     ]
    }
   ],
   "source": [
    "def run_filtered_cox_ph(df, time_col, event_col, covariate_names ):\n",
    "    df = df[covariate_names + [time_col, event_col]]\n",
    "    cf = lifelines.CoxPHFitter() \n",
    "    cf.fit(df, time_col, event_col = event_col, include_likelihood= True)\n",
    "    return cf\n",
    "\n",
    "cf = run_cox_ph(rossi, \"week\", \"arrest\", [\"paro\", \"prio\"])\n",
    "\n"
   ]
  },
  {
   "cell_type": "code",
   "execution_count": null,
   "metadata": {
    "collapsed": false
   },
   "outputs": [],
   "source": [
    "def present_cox_ph(cf):\n",
    "    fig, axes = plt.subplots(nrows=1, ncols=2, sharex=True) \n",
    "    cf.baseline_cumulative_hazard_.plot(ax = axes[0], title = \"Baseline Cumulative Hazard\")\n",
    "    cf.baseline_survival_.plot(ax = axes[1], title = \"Baseline Survival\")\n",
    "present_cox_ph(cf)"
   ]
  },
  {
   "cell_type": "code",
   "execution_count": null,
   "metadata": {
    "collapsed": false
   },
   "outputs": [],
   "source": [
    "class CoxPHModel: \n",
    "    \n",
    "    def __init__(self, df, survival_col, cens_col, prior_params, reference_loglik = None, covariate_names = None):\n",
    "        self.prior_params = prior_params\n",
    "        self.survival_col = survival_col\n",
    "        self.cens_col = cens_col\n",
    "        \n",
    "        all_covariate_columns = [col for col in df.columns if col not in [cens_col, survival_col]]\n",
    "        if covariate_names == None:\n",
    "            self.covariate_names = all_covariate_columns\n",
    "        else:\n",
    "            self.covariate_names = covariate_names\n",
    "        self.df = df[self.covariate_names + [self.survival_col, self.cens_col]]\n",
    "        \n",
    "        self.mask = [x in self.covariate_names for x in all_covariate_columns]\n",
    "        self._cf = None        \n",
    "        if reference_loglik == None:\n",
    "            reference_loglik = self.loglik()\n",
    "        self.reference_loglik = reference_loglik\n",
    "        \n",
    "        \n",
    "        \n",
    "    def prior(self):\n",
    "        parameter_contributions = [x[1] if x[0] else (1 - x[1]) for x in zip(self.mask , self.prior_params)]\n",
    "        return reduce(operator.mul, parameter_contributions, 1)\n",
    "    \n",
    "    def _run(self):\n",
    "        self._cf = lifelines.CoxPHFitter() \n",
    "        self._cf.fit(self.df, self.survival_col, event_col = self.cens_col, include_likelihood= True) \n",
    "    \n",
    "    def loglik(self):\n",
    "        if self._cf is None:\n",
    "            self._run()\n",
    "        return self._cf._log_likelihood\n",
    "    \n",
    "    def summary(self):\n",
    "        if self._cf is None:\n",
    "            self._run()\n",
    "        return self._cf.summary.index, self._cf.summary[\"coef\"], (self._cf.summary[\"se(coef)\"] * self._cf.summary[\"se(coef)\"])\n",
    "    \n",
    "    def bayesian_information_critera(self):\n",
    "        size = len(self.covariate_names)\n",
    "        n = self.df.shape[0]\n",
    "        prior = self.prior()\n",
    "        loglik = self.loglik()\n",
    "        return (size * log(n)) - (2 * (loglik - self.reference_loglik)) - (2 * log(prior))"
   ]
  },
  {
   "cell_type": "code",
   "execution_count": null,
   "metadata": {
    "collapsed": false
   },
   "outputs": [],
   "source": [
    "class BMACox:\n",
    "    \n",
    "    def __init__(self, x, survival_col, cens_col, priors = None):\n",
    "        self.df = x\n",
    "        self.survival_col = survival_col\n",
    "        self.cens_col = cens_col\n",
    "        if priors == None:\n",
    "            self.priors = [0.5] * (len(self.df.columns) - 2) #Uniformative prior\n",
    "        else:\n",
    "            self.priors = priors\n",
    "        self.reference_loglik = None\n",
    "        self.full_model = self.create_model(None)\n",
    "        self._set_reference_loglik()\n",
    "       \n",
    "    def _generate_model_definnitions(self):\n",
    "        names, coefs, var = self.full_model.summary()\n",
    "        model1 = [\"fin\", \"prio\"]\n",
    "        model2 = [\"race\", \"mar\"]\n",
    "        model6 = [\"race\", \"age\"]\n",
    "        model3 = [\"prio\", \"race\"]\n",
    "        model4 = [\"prio\", \"race\", \"mar\"]\n",
    "        model5 = [\"prio\", \"age\", \"mar\"]\n",
    "        return [model1, model2, model3, model4, model5, model6]\n",
    "    \n",
    "    def _weight_by_posterior(self, values, posterior):\n",
    "        def add_dataframes(dfone, dftwo):\n",
    "            return dfone.add(dftwo, fill_value = 0)\n",
    "    \n",
    "        output = zip(values, posterior)\n",
    "        weighted = [x[0] * x[1] for x in output]\n",
    "        running_total = weighted[0]\n",
    "        for i in range(1, len(weighted)):\n",
    "            running_total = add_dataframes(running_total, weighted[i])\n",
    "        return running_total\n",
    "    \n",
    "    def run(self):\n",
    "        \n",
    "        models = self._generate_model_definnitions()\n",
    "        models = [self.create_model(x) for x in models]\n",
    "        bics = [x.bayesian_information_critera() for x in models]\n",
    "        self.posterior_probabilities = []\n",
    "        min_bic = min(bics)\n",
    "        summation = sum( [exp(-0.5 * (bic - min_bic)) for bic in bics])\n",
    "        for bic in bics:\n",
    "            posterior = (exp(-0.5 * (bic - min_bic)))/summation\n",
    "            self.posterior_probabilities.append(posterior)\n",
    "        \n",
    "        coefficiencts_by_model = [x.summary()[1] for x in models]\n",
    "        sterr_by_model = [x.summary()[2] for x in models]\n",
    "        \n",
    "        self.coefficients_weighted = self._weight_by_posterior(coefficiencts_by_model, self.posterior_probabilities)\n",
    "        self.sterr_weighted = self._weight_by_posterior(sterr_by_model, self.posterior_probabilities)\n",
    "        return self.coefficients_weighted, self.sterr_weighted\n",
    "    \n",
    "    def create_model(self, covariate_names):\n",
    "        return CoxPHModel(self.df, self.survival_col, self.cens_col, self.priors, self.reference_loglik, covariate_names)\n",
    "    \n",
    "    def _set_reference_loglik(self):\n",
    "        self.reference_loglik = self.full_model.loglik()\n"
   ]
  },
  {
   "cell_type": "code",
   "execution_count": null,
   "metadata": {
    "collapsed": false
   },
   "outputs": [],
   "source": [
    "bmaCox = BMACox(rossi, \"week\", \"arrest\")\n",
    "\n",
    "posterior = bmaCox.run()\n",
    "posterior[0]"
   ]
  },
  {
   "cell_type": "code",
   "execution_count": null,
   "metadata": {
    "collapsed": false
   },
   "outputs": [],
   "source": [
    "for x in posterior:\n",
    "    print(x)"
   ]
  },
  {
   "cell_type": "code",
   "execution_count": null,
   "metadata": {
    "collapsed": false
   },
   "outputs": [],
   "source": [
    "weighted = [x[0] * x[1] for x in p]\n",
    "weighted"
   ]
  },
  {
   "cell_type": "code",
   "execution_count": null,
   "metadata": {
    "collapsed": false
   },
   "outputs": [],
   "source": [
    "def add_dataframes(dfone, dftwo):\n",
    "    return dfone.add(dftwo, fill_value = 0)\n",
    "running_total = weighted[0]\n",
    "for i in range(1, len(weighted)):\n",
    "    running_total = add_dataframes(running_total, weighted[i])\n",
    "running_total"
   ]
  },
  {
   "cell_type": "code",
   "execution_count": null,
   "metadata": {
    "collapsed": false
   },
   "outputs": [],
   "source": [
    "pd.DataFrame([0], columns = [\"coef\"])"
   ]
  },
  {
   "cell_type": "code",
   "execution_count": null,
   "metadata": {
    "collapsed": true
   },
   "outputs": [],
   "source": []
  }
 ],
 "metadata": {
  "kernelspec": {
   "display_name": "Python 3",
   "language": "python",
   "name": "python3"
  },
  "language_info": {
   "codemirror_mode": {
    "name": "ipython",
    "version": 3
   },
   "file_extension": ".py",
   "mimetype": "text/x-python",
   "name": "python",
   "nbconvert_exporter": "python",
   "pygments_lexer": "ipython3",
   "version": "3.5.1"
  }
 },
 "nbformat": 4,
 "nbformat_minor": 0
}
